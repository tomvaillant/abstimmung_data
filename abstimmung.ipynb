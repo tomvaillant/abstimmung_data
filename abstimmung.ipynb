{
 "cells": [
  {
   "cell_type": "code",
   "execution_count": 3,
   "id": "03a9fdf6-a92a-4da6-b345-87ae9b03aaf4",
   "metadata": {},
   "outputs": [
    {
     "name": "stdout",
     "output_type": "stream",
     "text": [
      "Data successfully loaded\n"
     ]
    }
   ],
   "source": [
    "import requests\n",
    "import pandas as pd\n",
    "import json\n",
    "\n",
    "# Make the request\n",
    "response = requests.get(\"https://ogd-static.voteinfo-app.ch/v1/ogd/sd-t-17-02-20240922-eidgAbstimmung.json\")\n",
    "\n",
    "# Check if request was successful\n",
    "if response.status_code == 200:\n",
    "    # Parse JSON data\n",
    "    data = response.json()\n",
    "    \n",
    "    # Now you can work with data as a Python dictionary\n",
    "    print(\"Data successfully loaded\")\n",
    "    with open('voting_data.json', 'w', encoding='utf-8') as f:\n",
    "        json.dump(data, f, ensure_ascii=False, indent=2)\n",
    "else:\n",
    "    print(f\"Failed to fetch data. Status code: {response.status_code}\")\n",
    "\n"
   ]
  },
  {
   "cell_type": "code",
   "execution_count": 16,
   "id": "8662a45e-8671-40dd-92b6-abaaa81f7509",
   "metadata": {},
   "outputs": [],
   "source": [
    "# Initialize empty lists to store the data\n",
    "yes_votes = []\n",
    "yes_percent = []\n",
    "no_votes = []\n",
    "no_percent = []\n",
    "voter_turnout = []\n",
    "titles = []\n",
    "\n",
    "# Iterate through all vorlagen\n",
    "for vorlage in data['schweiz']['vorlagen']:\n",
    "    # Extract resultat data\n",
    "    resultat = vorlage['resultat']\n",
    "    \n",
    "    # Get the German title of the vorlage\n",
    "    title = next(t['text'] for t in vorlage['vorlagenTitel'] if t['langKey'] == 'de')\n",
    "    titles.append(title)\n",
    "    \n",
    "    # Add data to lists\n",
    "    yes_votes.append(resultat['jaStimmenAbsolut'])\n",
    "    yes_percent.append(resultat['jaStimmenInProzent'])\n",
    "    no_votes.append(resultat['neinStimmenAbsolut'])\n",
    "    # Calculate no percentage\n",
    "    no_percent.append(100 - resultat['jaStimmenInProzent'])\n",
    "    voter_turnout.append(resultat['stimmbeteiligungInProzent'])\n",
    "\n",
    "# Create the dataframe\n",
    "df = pd.DataFrame({\n",
    "    'title': titles,\n",
    "    'yes_votes': yes_votes,\n",
    "    'yes_percent': yes_percent,\n",
    "    'no_votes': no_votes,\n",
    "    'no_percent': no_percent,\n",
    "    'voter_turnout_percent': voter_turnout\n",
    "})\n",
    "\n",
    "# Round percentage columns to 2 decimal places\n",
    "percentage_columns = ['yes_percent', 'no_percent', 'voter_turnout_percent']\n",
    "df[percentage_columns] = df[percentage_columns].round(2)\n",
    "\n",
    "df.to_csv(\"abstimmung_results.csv\", index=False)"
   ]
  },
  {
   "cell_type": "code",
   "execution_count": 20,
   "id": "3fcad0f4-1623-4a34-a9d0-30fda6e61db1",
   "metadata": {},
   "outputs": [
    {
     "name": "stdout",
     "output_type": "stream",
     "text": [
      "Saved abstimmung_0.json\n",
      "Saved abstimmung_1.json\n"
     ]
    }
   ],
   "source": [
    "# Iterate through all vorlagen\n",
    "for i, vorlage in enumerate(data['schweiz']['vorlagen']):\n",
    "    # Create a new dictionary with titles and kantone data\n",
    "    export_data = {\n",
    "        'vorlagenTitel': vorlage['vorlagenTitel'],  # Add the titles in all languages\n",
    "        'kantone': vorlage['kantone']  # Add the kantone data\n",
    "    }\n",
    "    \n",
    "    # Save to a JSON file with proper formatting and encoding\n",
    "    filename = f'abstimmung_{i}.json'\n",
    "    with open(filename, 'w', encoding='utf-8') as f:\n",
    "        json.dump(export_data, f, ensure_ascii=False, indent=2)\n",
    "    \n",
    "    print(f\"Saved {filename}\")"
   ]
  },
  {
   "cell_type": "code",
   "execution_count": null,
   "id": "1da52c3d-69ff-4e01-8172-08d04bb3dc6f",
   "metadata": {},
   "outputs": [],
   "source": []
  }
 ],
 "metadata": {
  "kernelspec": {
   "display_name": "Python 3 (ipykernel)",
   "language": "python",
   "name": "python3"
  },
  "language_info": {
   "codemirror_mode": {
    "name": "ipython",
    "version": 3
   },
   "file_extension": ".py",
   "mimetype": "text/x-python",
   "name": "python",
   "nbconvert_exporter": "python",
   "pygments_lexer": "ipython3",
   "version": "3.11.8"
  }
 },
 "nbformat": 4,
 "nbformat_minor": 5
}
