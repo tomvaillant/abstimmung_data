{
 "cells": [
  {
   "cell_type": "code",
   "execution_count": 4,
   "id": "91d42fa5-d1d6-4aba-9235-671bce58398a",
   "metadata": {},
   "outputs": [
    {
     "name": "stdout",
     "output_type": "stream",
     "text": [
      "Data successfully loaded\n"
     ]
    }
   ],
   "source": [
    "import requests\n",
    "from datetime import datetime\n",
    "import pandas as pd\n",
    "import json\n",
    "\n",
    "response = requests.get(\"https://ogd-static.voteinfo-app.ch/v1/ogd/sd-t-17-02-20241124-eidgAbstimmung.json\")\n",
    "# response = requests.get(\"https://ogd-static.voteinfo-app.ch/v1/ogd/sd-t-17-02-20240922-eidgAbstimmung.json\")\n",
    "\n",
    "bfs_data = response.json()\n",
    "print(\"Data successfully loaded\")\n",
    "\n",
    "with open('voting_data.json', 'w', encoding='utf-8') as f:\n",
    "   json.dump(bfs_data, f, ensure_ascii=False, indent=2)\n",
    "\n",
    "def get_short_title(title):\n",
    "   import re\n",
    "   match = re.search(r'\\((.*?)\\)', title)\n",
    "   return match.group(1) if match else title\n",
    "\n",
    "vorlagen = [{\n",
    "   'id': vorlage['vorlagenId'],\n",
    "   'title_de': get_short_title(next(t['text'] for t in vorlage['vorlagenTitel'] if t['langKey'] == 'de')),\n",
    "   'title_fr': get_short_title(next(t['text'] for t in vorlage['vorlagenTitel'] if t['langKey'] == 'fr'))\n",
    "} for vorlage in bfs_data['schweiz']['vorlagen']]\n",
    "\n",
    "results_df = pd.DataFrame(columns=['id', 'time', 'percent_yes', 'percent_no', 'lower_bound', 'upper_bound', 'share_counted', 'label', 'result', 'title_de', 'title_fr', 'type'])\n",
    "\n",
    "for i, vorlage in enumerate(vorlagen):\n",
    "   timestamp = int(datetime.now().timestamp() * 1000)\n",
    "   url = f\"https://tamedia-abstimmungszentrale-hochrechnung.storage.googleapis.com/{vorlage['id']}.csv?{timestamp}\"\n",
    "   \n",
    "   try:\n",
    "       leewas_data = pd.read_csv(url)\n",
    "       latest_row = leewas_data.sort_values('Time').iloc[-1]\n",
    "       \n",
    "       percent_yes = latest_row['Estimate']\n",
    "       result_type = 'trend'\n",
    "       \n",
    "       if bfs_data['schweiz']['vorlagen'][i]['resultat']['gebietAusgezaehlt']:\n",
    "           percent_yes = bfs_data['schweiz']['vorlagen'][i]['resultat']['jaStimmenInProzent']\n",
    "           result_type = 'final'\n",
    "           \n",
    "       new_row = pd.DataFrame({\n",
    "           'id': [vorlage['id']],\n",
    "           'time': [latest_row['Time']], \n",
    "           'percent_yes': [round(percent_yes, 2)],\n",
    "           'percent_no': [round(100 - percent_yes, 2)],\n",
    "           'lower_bound': [latest_row['lower_bound']],\n",
    "           'upper_bound': [latest_row['upper_bound']],\n",
    "           'share_counted': [latest_row['Share_counted']],\n",
    "           'label': [latest_row['label']],\n",
    "           'result': [latest_row['result']],\n",
    "           'title_de': [vorlage['title_de']],\n",
    "           'title_fr': [vorlage['title_fr']],\n",
    "           'type': [result_type]\n",
    "       })\n",
    "   except:\n",
    "       new_row = pd.DataFrame({\n",
    "           'id': [vorlage['id']],\n",
    "           'time': [timestamp],\n",
    "           'percent_yes': [None],\n",
    "           'percent_no': [None],\n",
    "           'lower_bound': [None],\n",
    "           'upper_bound': [None],\n",
    "           'share_counted': [None],\n",
    "           'label': [None],\n",
    "           'result': [None],\n",
    "           'title_de': [vorlage['title_de']],\n",
    "           'title_fr': [vorlage['title_fr']],\n",
    "           'type': ['trend']\n",
    "       })\n",
    "   \n",
    "   results_df = pd.concat([results_df, new_row], ignore_index=True)\n",
    "\n",
    "results_df.to_csv(\"leewas_data.csv\", index=False)"
   ]
  },
  {
   "cell_type": "code",
   "execution_count": null,
   "id": "ae0d582b-05b9-4578-aa45-064b9cf1647f",
   "metadata": {},
   "outputs": [],
   "source": []
  }
 ],
 "metadata": {
  "kernelspec": {
   "display_name": "Python 3 (ipykernel)",
   "language": "python",
   "name": "python3"
  },
  "language_info": {
   "codemirror_mode": {
    "name": "ipython",
    "version": 3
   },
   "file_extension": ".py",
   "mimetype": "text/x-python",
   "name": "python",
   "nbconvert_exporter": "python",
   "pygments_lexer": "ipython3",
   "version": "3.11.8"
  }
 },
 "nbformat": 4,
 "nbformat_minor": 5
}
