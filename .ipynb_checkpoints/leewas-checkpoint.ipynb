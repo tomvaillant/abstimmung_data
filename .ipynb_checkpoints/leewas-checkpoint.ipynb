{
 "cells": [
  {
   "cell_type": "code",
   "execution_count": 25,
   "id": "91d42fa5-d1d6-4aba-9235-671bce58398a",
   "metadata": {},
   "outputs": [
    {
     "name": "stdout",
     "output_type": "stream",
     "text": [
      "Data successfully loaded\n"
     ]
    },
    {
     "name": "stderr",
     "output_type": "stream",
     "text": [
      "/var/folders/c8/bvk5bjs15mzg5h8m_jcbywx40000gn/T/ipykernel_35144/1484331187.py:78: FutureWarning: The behavior of DataFrame concatenation with empty or all-NA entries is deprecated. In a future version, this will no longer exclude empty or all-NA columns when determining the result dtypes. To retain the old behavior, exclude the relevant entries before the concat operation.\n",
      "  results_df = pd.concat([results_df, new_row], ignore_index=True)\n"
     ]
    }
   ],
   "source": [
    "import requests\n",
    "from datetime import datetime\n",
    "import pandas as pd\n",
    "import json\n",
    "\n",
    "response = requests.get(\"https://ogd-static.voteinfo-app.ch/v1/ogd/sd-t-17-02-20240922-eidgAbstimmung.json\")\n",
    "# change to new URL, make this code optional\n",
    "# response = requests.get(\"https://ogd-static.voteinfo-app.ch/v1/ogd/sd-t-17-02-20241124-eidgAbstimmung.json\")\n",
    "\n",
    "# Check if request was successful\n",
    "if response.status_code == 200:\n",
    "    # Parse JSON data\n",
    "    bfs_data = response.json()\n",
    "    \n",
    "    # Now you can work with data as a Python dictionary\n",
    "    print(\"Data successfully loaded\")\n",
    "    with open('voting_data.json', 'w', encoding='utf-8') as f:\n",
    "        json.dump(bfs_data, f, ensure_ascii=False, indent=2)\n",
    "else:\n",
    "    print(f\"Failed to fetch data. Status code: {response.status_code}\")\n",
    "\n",
    "# old_vorlagen = [{'id': 6710,\n",
    "#   'title': 'Volksinitiative «Für die Zukunft unserer Natur und Landschaft (Biodiversitätsinitiative)»'},\n",
    "#  {'id': 6720,\n",
    "#   'title': 'Änderung des Bundesgesetzes über die berufliche Alters-, Hinterlassenen- und Invalidenvorsorge (BVG) (Reform der beruflichen Vorsorge)'}]\n",
    "\n",
    "# current_vorlagen = [{'id': 6730,\n",
    "#   'title': 'Bundesbeschluss über den Ausbauschritt 2023 für die Nationalstrassen'},\n",
    "#  {'id': 6740,\n",
    "#   'title': 'Änderung des Obligationenrechts (Mietrecht: Untermiete)'},\n",
    "#  {'id': 6750,\n",
    "#   'title': 'Änderung des Obligationenrechts (Mietrecht: Kündigung wegen Eigenbedarfs)'},\n",
    "#  {'id': 6760,\n",
    "#   'title': 'Änderung des Bundesgesetzes über die Krankenversicherung (KVG) (Einheitliche Finanzierung der Leistungen)'}]\n",
    "\n",
    "def get_short_title(title):\n",
    "   import re\n",
    "   match = re.search(r'\\((.*?)\\)', title)\n",
    "   return match.group(1) if match else title\n",
    "\n",
    "vorlagen = [{\n",
    "   'id': vorlage['vorlagenId'],\n",
    "   'title_de': get_short_title(next(t['text'] for t in vorlage['vorlagenTitel'] if t['langKey'] == 'de')),\n",
    "   'title_fr': get_short_title(next(t['text'] for t in vorlage['vorlagenTitel'] if t['langKey'] == 'fr'))\n",
    "} for vorlage in bfs_data['schweiz']['vorlagen']]\n",
    "\n",
    "results_df = pd.DataFrame(columns=['BfS_number', 'time', 'percent_yes', 'percent_no', 'lower_bound', 'upper_bound', 'share_counted', 'label', 'result', 'title_de', 'title_fr', 'type'])\n",
    "\n",
    "for i, vorlage in enumerate(vorlagen):\n",
    "   timestamp = int(datetime.now().timestamp() * 1000)\n",
    "   url = f\"https://tamedia-abstimmungszentrale-hochrechnung.storage.googleapis.com/{vorlage['id']}.csv?{timestamp}\"\n",
    "   leewas_data = pd.read_csv(url)\n",
    "   \n",
    "   latest_row = leewas_data.sort_values('Time').iloc[-1]\n",
    "   \n",
    "   percent_yes = latest_row['Estimate']\n",
    "   result_type = 'trend'\n",
    "   \n",
    "   if bfs_data['schweiz']['vorlagen'][i]['resultat']['gebietAusgezaehlt']:\n",
    "       percent_yes = bfs_data['schweiz']['vorlagen'][i]['resultat']['jaStimmenInProzent']\n",
    "       result_type = 'final'\n",
    "   \n",
    "   new_row = pd.DataFrame({\n",
    "       'BfS_number': [latest_row['BfS_number']],\n",
    "       'time': [latest_row['Time']], \n",
    "       'percent_yes': [round(percent_yes, 2)],\n",
    "       'percent_no': [round(100 - percent_yes, 2)],\n",
    "       'lower_bound': [latest_row['lower_bound']],\n",
    "       'upper_bound': [latest_row['upper_bound']],\n",
    "       'share_counted': [latest_row['Share_counted']],\n",
    "       'label': [latest_row['label']],\n",
    "       'result': [latest_row['result']],\n",
    "       'title_de': [vorlage['title_de']],\n",
    "       'title_fr': [vorlage['title_fr']],\n",
    "       'type': [result_type]\n",
    "   })\n",
    "   \n",
    "   results_df = pd.concat([results_df, new_row], ignore_index=True)\n",
    "\n",
    "results_df.to_csv(\"leewas_results.csv\", index=False)"
   ]
  }
 ],
 "metadata": {
  "kernelspec": {
   "display_name": "Python 3 (ipykernel)",
   "language": "python",
   "name": "python3"
  },
  "language_info": {
   "codemirror_mode": {
    "name": "ipython",
    "version": 3
   },
   "file_extension": ".py",
   "mimetype": "text/x-python",
   "name": "python",
   "nbconvert_exporter": "python",
   "pygments_lexer": "ipython3",
   "version": "3.11.8"
  }
 },
 "nbformat": 4,
 "nbformat_minor": 5
}
